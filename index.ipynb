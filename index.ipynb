{
 "cells": [
  {
   "cell_type": "markdown",
   "metadata": {},
   "source": [
    "# SyriaTel Customer Churn Modeling Project\n",
    "**Author:** Brian Amani"
   ]
  },
  {
   "cell_type": "markdown",
   "metadata": {},
   "source": [
    "## Project Overview\n",
    "***"
   ]
  },
  {
   "cell_type": "markdown",
   "metadata": {},
   "source": [
    "This project focuses on developing a model to predict whether a customer is likely to churn from SyriaTel, a telecommunications company. The goal is to help SyriaTel reduce churn by identifying high-risk customers and applying targeted retention strategies. By analyzing customer data, the model provides actionable insights to stakeholders aiming to minimize churn and prevent revenue loss. The results enable SyriaTel to identify at-risk customers and take proactive steps to retain them, supporting efforts to improve customer loyalty and profitability. Specifically, the analysis indicates that SyriaTel should:\n",
    "\n",
    "1. Use the Tuned Decision Tree Model to predict churn and implement targeted retention strategies, such as:\n",
    "\n",
    "- Creating plans for high-usage customers,\n",
    "- Improving international services,\n",
    "- Enhancing customer support, and\n",
    "- Adopting strategies tailored to specific regions."
   ]
  }
 ],
 "metadata": {
  "kernelspec": {
   "display_name": "learn-env",
   "language": "python",
   "name": "python3"
  },
  "language_info": {
   "name": "python",
   "version": "3.8.5"
  }
 },
 "nbformat": 4,
 "nbformat_minor": 2
}
